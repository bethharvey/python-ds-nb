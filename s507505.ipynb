{
 "cells": [
  {
   "attachments": {},
   "cell_type": "markdown",
   "metadata": {},
   "source": [
    "Beth Harvey\n",
    "\n",
    "## Question 10"
   ]
  },
  {
   "cell_type": "code",
   "execution_count": 12,
   "metadata": {},
   "outputs": [
    {
     "name": "stdout",
     "output_type": "stream",
     "text": [
      "*      *\n",
      "**    **\n",
      "***  ***\n",
      "********\n",
      "\n"
     ]
    }
   ],
   "source": [
    "rows = ''\n",
    "\n",
    "for i in range(1, 5):\n",
    "    gap = ' ' * (8 - 2 * i)\n",
    "    row = '*' * i + gap + '*' * i + '\\n'\n",
    "    rows += row\n",
    "    \n",
    "print(rows)"
   ]
  },
  {
   "cell_type": "code",
   "execution_count": 14,
   "metadata": {},
   "outputs": [
    {
     "name": "stdout",
     "output_type": "stream",
     "text": [
      "[NbConvertApp] WARNING | Config option `kernel_spec_manager_class` not recognized by `NbConvertApp`.\n",
      "[NbConvertApp] Converting notebook s507505.ipynb to html\n",
      "[NbConvertApp] Writing 577349 bytes to s507505.html\n"
     ]
    }
   ],
   "source": [
    "!jupyter nbconvert --to html s507505.ipynb\n"
   ]
  }
 ],
 "metadata": {
  "kernelspec": {
   "display_name": "Python 3",
   "language": "python",
   "name": "python3"
  },
  "language_info": {
   "codemirror_mode": {
    "name": "ipython",
    "version": 3
   },
   "file_extension": ".py",
   "mimetype": "text/x-python",
   "name": "python",
   "nbconvert_exporter": "python",
   "pygments_lexer": "ipython3",
   "version": "3.11.2"
  },
  "orig_nbformat": 4
 },
 "nbformat": 4,
 "nbformat_minor": 2
}
